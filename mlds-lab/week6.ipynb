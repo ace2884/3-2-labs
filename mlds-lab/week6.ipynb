{
 "cells": [
  {
   "cell_type": "code",
   "execution_count": 17,
   "id": "91463e55-ddbb-40b7-9e33-5763a33cabcb",
   "metadata": {},
   "outputs": [
    {
     "name": "stdout",
     "output_type": "stream",
     "text": [
      "[[2. 9.]\n",
      " [1. 5.]\n",
      " [3. 6.]]\n",
      "[[0.66666667 1.        ]\n",
      " [0.33333333 0.55555556]\n",
      " [1.         0.66666667]]\n",
      "[[0.92]\n",
      " [0.86]\n",
      " [0.89]]\n"
     ]
    }
   ],
   "source": [
    "import numpy as np\n",
    "x=np.array(([2,9],[1,5],[3,6]),dtype=float)\n",
    "print(x)\n",
    "y=np.array(([92],[86],[89]),dtype=float)\n",
    "x=x/np.max(x,axis=0)\n",
    "y=y/100\n",
    "print(x)\n",
    "print(y)"
   ]
  },
  {
   "cell_type": "code",
   "execution_count": 18,
   "id": "55843270-a633-4add-9a18-cff13fde38cb",
   "metadata": {},
   "outputs": [],
   "source": [
    "def sigmoid(x):\n",
    "    return (1/(1+np.exp(-x)))\n",
    "def derivatives_sigmoid(x):\n",
    "    return x*(1-x)\n",
    "epoch=1000\n",
    "lr=0.01\n",
    "input_layer_neurons=2\n",
    "hidden_layer_neurons=2\n",
    "output_neurons=1\n",
    "wh=np.random.uniform(size=(input_layer_neurons,hidden_layer_neurons))\n",
    "bh=np.random.uniform(size=(1,hidden_layer_neurons))\n",
    "wout=np.random.uniform(size=(hidden_layer_neurons,output_neurons))\n",
    "bout=np.random.uniform(size=(1,output_neurons))"
   ]
  },
  {
   "cell_type": "code",
   "execution_count": 19,
   "id": "49bcdd39-264b-4c10-8947-b5b4fd43d88a",
   "metadata": {},
   "outputs": [],
   "source": [
    "for i in range(epoch):\n",
    "    hinp1=np.dot(x,wh)\n",
    "    hinp=hinp1+bh\n",
    "    hlayer_act=sigmoid(hinp)\n",
    "    outinp1=np.dot(hlayer_act,wout)\n",
    "    outinp=outinp1+bout\n",
    "    output=sigmoid(outinp)\n",
    "    EO=(y-output)"
   ]
  },
  {
   "cell_type": "code",
   "execution_count": 20,
   "id": "c90a0913-94c6-4b78-aed6-e2ab646e34a8",
   "metadata": {},
   "outputs": [],
   "source": [
    "outgrad=derivatives_sigmoid(output)\n",
    "d_output=EO*outgrad\n",
    "EH=d_output.dot(wout.T)\n",
    "hiddengrad=derivatives_sigmoid(hlayer_act)\n",
    "d_hiddenlayer=EH*hiddengrad"
   ]
  },
  {
   "cell_type": "code",
   "execution_count": 21,
   "id": "8374d9b6-36ca-4eb7-8f42-e6a7cf2b45e2",
   "metadata": {},
   "outputs": [
    {
     "name": "stdout",
     "output_type": "stream",
     "text": [
      "-----------Epoch- 1000 Starts-----------\n",
      "Input:\n",
      "[[0.66666667 1.        ]\n",
      " [0.33333333 0.55555556]\n",
      " [1.         0.66666667]]\n",
      "Actual output:\n",
      "[[0.92]\n",
      " [0.86]\n",
      " [0.89]]\n"
     ]
    }
   ],
   "source": [
    "wout+=hlayer_act.T.dot(d_output)*lr\n",
    "bout+=np.sum(d_output,axis=0,keepdims=True)*lr\n",
    "wh+=x.T.dot(d_hiddenlayer)*lr\n",
    "bh+=np.sum(d_hiddenlayer,axis=0,keepdims=True)*lr\n",
    "print(\"-----------Epoch-\",i+1,\"Starts-----------\")\n",
    "print(\"Input:\\n\"+str(x))\n",
    "print(\"Actual output:\\n\"+str(y))\n"
   ]
  },
  {
   "cell_type": "code",
   "execution_count": 22,
   "id": "42e86de1-9f5e-4967-9221-87d9b078f009",
   "metadata": {},
   "outputs": [
    {
     "name": "stdout",
     "output_type": "stream",
     "text": [
      "predicted output:\n",
      " [[0.79208538]\n",
      " [0.77963939]\n",
      " [0.79217299]]\n",
      "Error:\n",
      "[[0.12791462]\n",
      " [0.08036061]\n",
      " [0.09782701]]\n",
      "--------Epoch- 1000 Ends------\n"
     ]
    }
   ],
   "source": [
    "print(\"predicted output:\\n\",output)\n",
    "print(\"Error:\\n\"+str(EO))\n",
    "print(\"--------Epoch-\",i+1,\"Ends------\")\n",
    "#"
   ]
  },
  {
   "cell_type": "code",
   "execution_count": 14,
   "id": "1bf42dea-030b-4202-90dc-259d84c339e0",
   "metadata": {},
   "outputs": [
    {
     "name": "stdout",
     "output_type": "stream",
     "text": [
      "Actual Output[[0.92]\n",
      " [0.86]\n",
      " [0.89]]\n",
      "Predicted Output[[0.77510513]\n",
      " [0.75225585]\n",
      " [0.77474039]]\n",
      "Error[[0.14489487]\n",
      " [0.10774415]\n",
      " [0.11525961]]\n"
     ]
    }
   ],
   "source": [
    "print(\"Actual Output\"+str(y))\n",
    "print(\"Predicted Output\"+str(output))\n",
    "print(\"Error\"+str(EO))"
   ]
  },
  {
   "cell_type": "code",
   "execution_count": null,
   "id": "e9815bdc-a007-40a2-a176-92ff167877ca",
   "metadata": {},
   "outputs": [],
   "source": []
  },
  {
   "cell_type": "code",
   "execution_count": null,
   "id": "44e0f2cc-0edd-4337-b9bf-59c9553deedc",
   "metadata": {},
   "outputs": [],
   "source": []
  }
 ],
 "metadata": {
  "kernelspec": {
   "display_name": "Python 3 (ipykernel)",
   "language": "python",
   "name": "python3"
  },
  "language_info": {
   "codemirror_mode": {
    "name": "ipython",
    "version": 3
   },
   "file_extension": ".py",
   "mimetype": "text/x-python",
   "name": "python",
   "nbconvert_exporter": "python",
   "pygments_lexer": "ipython3",
   "version": "3.11.3"
  }
 },
 "nbformat": 4,
 "nbformat_minor": 5
}
